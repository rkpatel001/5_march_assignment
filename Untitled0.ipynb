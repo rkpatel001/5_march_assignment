{
  "nbformat": 4,
  "nbformat_minor": 0,
  "metadata": {
    "colab": {
      "provenance": []
    },
    "kernelspec": {
      "name": "python3",
      "display_name": "Python 3"
    },
    "language_info": {
      "name": "python"
    }
  },
  "cells": [
    {
      "cell_type": "markdown",
      "source": [
        "Q1. How can you create a Bokeh plot using Python code?"
      ],
      "metadata": {
        "id": "Vit4ILJFtokX"
      }
    },
    {
      "cell_type": "code",
      "source": [
        "import bokeh.plotting\n",
        "import bokeh.io\n",
        "from bokeh.plotting import figure, show , output_file"
      ],
      "metadata": {
        "id": "9GuD6cuntpAr"
      },
      "execution_count": 9,
      "outputs": []
    },
    {
      "cell_type": "code",
      "source": [
        "x = [1,2,3,4,5]\n",
        "y = [6,7,2,4,5]\n",
        "\n",
        "output_file('line.html')\n",
        "\n",
        "p = figure(title = 'simple line example')\n",
        "p.xaxis.axis_label = 'x'\n",
        "p.yaxis.axis_label = 'y'\n",
        "\n",
        "\n",
        "p.circle(x,y)\n",
        "\n",
        "show(p)"
      ],
      "metadata": {
        "id": "6ISdAHWvt2kQ"
      },
      "execution_count": 10,
      "outputs": []
    },
    {
      "cell_type": "markdown",
      "source": [
        "Q2. What are glyphs in Bokeh, and how can you add them to a Bokeh plot? Explain with an example."
      ],
      "metadata": {
        "id": "zj_e9JPtulTv"
      }
    },
    {
      "cell_type": "code",
      "source": [
        "glyphs are visula block of code that adding the circle , line and rectangle in the plot"
      ],
      "metadata": {
        "id": "CoS_ipU8uLuq"
      },
      "execution_count": null,
      "outputs": []
    },
    {
      "cell_type": "markdown",
      "source": [
        "Q3. How can you customize the appearance of a Bokeh plot, including the axes, title, and legend?"
      ],
      "metadata": {
        "id": "2Ax6MoucvLO4"
      }
    },
    {
      "cell_type": "code",
      "source": [
        "you can add title, axis name and type of the graph\n",
        "\n",
        "\n",
        "x = [1,2,3,4,5]\n",
        "y = [6,7,2,4,5]\n",
        "\n",
        "output_file('line.html')\n",
        "\n",
        "p = figure(title = 'simple line')\n",
        "p.xaxis.axis_label = 'x'\n",
        "p.yaxis.axis_label = 'y'\n",
        "\n",
        "\n",
        "p.circle(x,y, lenged_label = \"red label\")\n",
        "\n",
        "show(p)\n"
      ],
      "metadata": {
        "id": "79Ao-YOkvKeR"
      },
      "execution_count": null,
      "outputs": []
    },
    {
      "cell_type": "markdown",
      "source": [
        "Q4. What is a Bokeh server, and how can you use it to create interactive plots that can be updated in\n",
        "real time?"
      ],
      "metadata": {
        "id": "B7ztkLaovtM1"
      }
    },
    {
      "cell_type": "markdown",
      "source": [
        "The Bokeh server is a powerful feature of the Bokeh library that allows you to create interactive, real-time web applications. With the Bokeh server, you can build interactive plots that respond to user inputs, update in real-time as data changes, and allow complex interactions such as selections, filters, and custom widgets."
      ],
      "metadata": {
        "id": "DAlaiP3Kv-yA"
      }
    },
    {
      "cell_type": "markdown",
      "source": [
        "Q5. How can you embed a Bokeh plot into a web page or dashboard using Flask or Django?"
      ],
      "metadata": {
        "id": "ShdJYr7xwDLB"
      }
    },
    {
      "cell_type": "markdown",
      "source": [
        "Embedding Bokeh plots into a web page or dashboard using Flask or Django is a common use case for integrating interactive visualizations into web applications. Below, I’ll explain how to do this for both Flask and Django."
      ],
      "metadata": {
        "id": "oqYbiSADwElo"
      }
    },
    {
      "cell_type": "code",
      "source": [],
      "metadata": {
        "id": "OmuTS4DIvqJa"
      },
      "execution_count": 10,
      "outputs": []
    }
  ]
}